{
 "cells": [
  {
   "cell_type": "code",
   "execution_count": 68,
   "metadata": {},
   "outputs": [],
   "source": [
    "from pyspark.sql import SparkSession\n",
    "\n",
    "spark = SparkSession.builder.appName('rheeza').getOrCreate()"
   ]
  },
  {
   "cell_type": "code",
   "execution_count": 69,
   "metadata": {},
   "outputs": [],
   "source": [
    "from pyspark.sql import functions as fn"
   ]
  },
  {
   "cell_type": "markdown",
   "metadata": {},
   "source": [
    "## Understand the Dataset"
   ]
  },
  {
   "cell_type": "code",
   "execution_count": 70,
   "metadata": {},
   "outputs": [],
   "source": [
    "trials_df = spark.read.json('dataset.json', multiLine=True)  #Reading the Json"
   ]
  },
  {
   "cell_type": "code",
   "execution_count": 71,
   "metadata": {},
   "outputs": [
    {
     "name": "stdout",
     "output_type": "stream",
     "text": [
      "+----------------+--------------------+---------+-----------------+-------------------+------------------------------+--------------------+\n",
      "|ageofparticipant|           clinician|drug_used|experimentenddate|experimentstartdate|noofhourspassedatfirstreaction|              result|\n",
      "+----------------+--------------------+---------+-----------------+-------------------+------------------------------+--------------------+\n",
      "|              19|{Ontario, Saul, t...|  Placebo|    1619827200000|      1617235200000|                            52|{BP normalized, r...|\n",
      "|              14|{Ontario, Saul, n...| Naproxen|    1619827200000|      1617235200000|                            78|    {Follow-up, N/A}|\n",
      "|              17|{Ontario, Saul, n...|  Placebo|    1619827200000|      1617235200000|                            14|    {Follow-up, N/A}|\n",
      "|              18|{Ontario, Will, n...| Naproxen|    1619827200000|      1617235200000|                            14|{BP normalized, N/A}|\n",
      "|              17|{Ontario, Patrick...| Naproxen|    1619827200000|      1617235200000|                            22|{No effect, rashe...|\n",
      "+----------------+--------------------+---------+-----------------+-------------------+------------------------------+--------------------+\n",
      "only showing top 5 rows\n",
      "\n"
     ]
    }
   ],
   "source": [
    "trials_df.show(5)"
   ]
  },
  {
   "cell_type": "code",
   "execution_count": 72,
   "metadata": {},
   "outputs": [
    {
     "name": "stdout",
     "output_type": "stream",
     "text": [
      "root\n",
      " |-- ageofparticipant: long (nullable = true)\n",
      " |-- clinician: struct (nullable = true)\n",
      " |    |-- branch: string (nullable = true)\n",
      " |    |-- name: string (nullable = true)\n",
      " |    |-- role: string (nullable = true)\n",
      " |-- drug_used: string (nullable = true)\n",
      " |-- experimentenddate: string (nullable = true)\n",
      " |-- experimentstartdate: string (nullable = true)\n",
      " |-- noofhourspassedatfirstreaction: long (nullable = true)\n",
      " |-- result: struct (nullable = true)\n",
      " |    |-- conclusion: string (nullable = true)\n",
      " |    |-- sideeffectsonparticipant: string (nullable = true)\n",
      "\n"
     ]
    }
   ],
   "source": [
    "trials_df.printSchema() #Checking the schema"
   ]
  },
  {
   "cell_type": "code",
   "execution_count": 73,
   "metadata": {},
   "outputs": [
    {
     "data": {
      "text/plain": [
       "['ageofparticipant',\n",
       " 'clinician',\n",
       " 'drug_used',\n",
       " 'experimentenddate',\n",
       " 'experimentstartdate',\n",
       " 'noofhourspassedatfirstreaction',\n",
       " 'result']"
      ]
     },
     "execution_count": 73,
     "metadata": {},
     "output_type": "execute_result"
    }
   ],
   "source": [
    "trials_df.columns"
   ]
  },
  {
   "cell_type": "code",
   "execution_count": 74,
   "metadata": {},
   "outputs": [],
   "source": [
    "columns = ['ageofparticipant',\n",
    " 'clinician.branch',\n",
    " 'clinician.name',\n",
    " 'clinician.role',\n",
    " 'drug_used',\n",
    " 'experimentenddate',\n",
    " 'experimentstartdate',\n",
    " 'noofhourspassedatfirstreaction',\n",
    " 'result.conclusion',\n",
    " 'result.sideeffectsonparticipant']"
   ]
  },
  {
   "cell_type": "code",
   "execution_count": 75,
   "metadata": {},
   "outputs": [
    {
     "name": "stdout",
     "output_type": "stream",
     "text": [
      "+----------------+-------+-------+---------+---------+-----------------+-------------------+------------------------------+-------------+------------------------+\n",
      "|ageofparticipant| branch|   name|     role|drug_used|experimentenddate|experimentstartdate|noofhourspassedatfirstreaction|   conclusion|sideeffectsonparticipant|\n",
      "+----------------+-------+-------+---------+---------+-----------------+-------------------+------------------------------+-------------+------------------------+\n",
      "|              19|Ontario|   Saul|therapist|  Placebo|    1619827200000|      1617235200000|                            52|BP normalized|          rashes on neck|\n",
      "|              14|Ontario|   Saul|    nurse| Naproxen|    1619827200000|      1617235200000|                            78|    Follow-up|                     N/A|\n",
      "|              17|Ontario|   Saul|    nurse|  Placebo|    1619827200000|      1617235200000|                            14|    Follow-up|                     N/A|\n",
      "|              18|Ontario|   Will|    nurse| Naproxen|    1619827200000|      1617235200000|                            14|BP normalized|                     N/A|\n",
      "|              17|Ontario|Patrick|   doctor| Naproxen|    1619827200000|      1617235200000|                            22|    No effect|          rashes on neck|\n",
      "|              17|Ontario|Patrick|   doctor| Naproxen|    1619827200000|      1617235200000|                             4|    Follow-up|               headaches|\n",
      "|              20|Ontario|   Saul|   doctor| Naproxen|    1619827200000|      1617235200000|                            85|    No effect|               headaches|\n",
      "|              15|Ontario|   Saul|   doctor|  Placebo|    1619827200000|      1617235200000|                            49|    No effect|          rashes on neck|\n",
      "|              14|Ontario|   Will|therapist|  Placebo|    1619827200000|      1617235200000|                            84|    Follow-up|               headaches|\n",
      "|              20|Ontario| Colins|    nurse|  Placebo|    1619827200000|      1617235200000|                            66|    Follow-up|           arms and feet|\n",
      "|              18|Ontario|Patrick|   doctor|  Placebo|    1619827200000|      1617235200000|                            40|BP normalized|             light fever|\n",
      "|              17|Ontario|Patrick|   doctor|  Placebo|    1619827200000|      1617235200000|                            72|BP normalized|           arms and feet|\n",
      "|              19|Ontario| Colins|therapist|  Placebo|    1619827200000|      1617235200000|                            36|    No effect|                     N/A|\n",
      "|              15|Ontario| Colins|therapist| Naproxen|    1619827200000|      1617235200000|                            12|BP normalized|               headaches|\n",
      "|              19|Ontario|   Saul|therapist|  Placebo|    1619827200000|      1617235200000|                            14|    No effect|                     N/A|\n",
      "|              16|Ontario| Colins|    nurse|  Placebo|    1619827200000|      1617235200000|                            63|BP normalized|                     N/A|\n",
      "|              16|Ontario|   Saul|    nurse| Naproxen|    1619827200000|      1617235200000|                            70|BP normalized|               headaches|\n",
      "|              18|Ontario|   Will|therapist| Naproxen|    1619827200000|      1617235200000|                            10|BP normalized|                     N/A|\n",
      "|              16|Ontario|Patrick|    nurse| Naproxen|    1619827200000|      1617235200000|                            11|    Follow-up|          rashes on neck|\n",
      "|              14|Ontario|Patrick|   doctor| Naproxen|    1619827200000|      1617235200000|                            32|    No effect|             light fever|\n",
      "+----------------+-------+-------+---------+---------+-----------------+-------------------+------------------------------+-------------+------------------------+\n",
      "only showing top 20 rows\n",
      "\n"
     ]
    }
   ],
   "source": [
    "trials_df.select(columns).show()"
   ]
  },
  {
   "cell_type": "code",
   "execution_count": 76,
   "metadata": {},
   "outputs": [
    {
     "name": "stdout",
     "output_type": "stream",
     "text": [
      "+----------------+----------------+--------------+--------------+---------+-----------------+-------------------+------------------------------+-----------------+-------------------------------+\n",
      "|ageofparticipant|clinician.branch|clinician.name|clinician.role|drug_used|experimentenddate|experimentstartdate|noofhourspassedatfirstreaction|result.conclusion|result.sideeffectsonparticipant|\n",
      "+----------------+----------------+--------------+--------------+---------+-----------------+-------------------+------------------------------+-----------------+-------------------------------+\n",
      "|               0|               0|             0|           109|        0|                0|                  0|                            73|               53|                              0|\n",
      "+----------------+----------------+--------------+--------------+---------+-----------------+-------------------+------------------------------+-----------------+-------------------------------+\n",
      "\n"
     ]
    }
   ],
   "source": [
    "trials_df.select([fn.count(fn.when(fn.col(column).isNull(), column)).alias(column) for column in columns]).show()"
   ]
  },
  {
   "cell_type": "markdown",
   "metadata": {},
   "source": [
    "# Cleaning of Data"
   ]
  },
  {
   "cell_type": "markdown",
   "metadata": {},
   "source": []
  },
  {
   "cell_type": "code",
   "execution_count": 77,
   "metadata": {},
   "outputs": [
    {
     "name": "stdout",
     "output_type": "stream",
     "text": [
      "root\n",
      " |-- ageofparticipant: long (nullable = true)\n",
      " |-- branch: string (nullable = true)\n",
      " |-- name: string (nullable = true)\n",
      " |-- role: string (nullable = true)\n",
      " |-- drug_used: string (nullable = true)\n",
      " |-- experimentenddate: string (nullable = true)\n",
      " |-- experimentstartdate: string (nullable = true)\n",
      " |-- noofhourspassedatfirstreaction: long (nullable = true)\n",
      " |-- conclusion: string (nullable = true)\n",
      " |-- sideeffectsonparticipant: string (nullable = true)\n",
      "\n"
     ]
    }
   ],
   "source": [
    "new_trials_df = trials_df.select(columns)\n",
    "new_trials_df.printSchema()\n"
   ]
  },
  {
   "cell_type": "code",
   "execution_count": 108,
   "metadata": {},
   "outputs": [],
   "source": [
    "new_column_names = {'ageofparticipant':'age_of_participant',\n",
    " 'branch': 'clinic_branch',\n",
    " 'name': 'head_clinician',\n",
    " 'role': 'assistant_role',\n",
    " 'drug_used':'drug_used',\n",
    " 'experimentenddate':'experiment_end_date',\n",
    " 'experimentstartdate':'experiment_start_date',\n",
    " 'noofhourspassedatfirstreaction':'hours_passed_at_first_reaction',\n",
    " 'conclusion':'conclusion',\n",
    " 'sideeffectsonparticipant':'adverse_side_effect'\n",
    "    \n",
    "}"
   ]
  },
  {
   "cell_type": "code",
   "execution_count": 109,
   "metadata": {},
   "outputs": [],
   "source": [
    "#Rename\n",
    "\n",
    "new_trials_df = new_trials_df.withColumnsRenamed(new_column_names)"
   ]
  },
  {
   "cell_type": "code",
   "execution_count": 110,
   "metadata": {},
   "outputs": [
    {
     "name": "stdout",
     "output_type": "stream",
     "text": [
      "+-------+------------------+-------------+--------------+--------------+---------+--------------------+---------------------+------------------------------+-------------+-------------------+-------------------+\n",
      "|summary|age_of_participant|clinic_branch|head_clinician|assistant_role|drug_used|     experiment_date|experiment_start_date|hours_passed_at_first_reaction|   conclusion|adverse_side_effect|           start_ts|\n",
      "+-------+------------------+-------------+--------------+--------------+---------+--------------------+---------------------+------------------------------+-------------+-------------------+-------------------+\n",
      "|  count|              3586|         3586|          3586|          3586|     3586|                3586|                 3586|                          3513|         3586|               3586|               3586|\n",
      "|   mean|17.507250418293363|         null|          null|          null|     null|1.618381578137200...| 1.615813671834913...|             44.89097637346997|         null|               null|               null|\n",
      "| stddev|2.3066401927555233|         null|          null|          null|     null|2.3250351904618263E9| 2.2862846039555306E9|            24.540325490035848|         null|               null|               null|\n",
      "|    min|                14|      Alberta|        Colins|        doctor| Naproxen|       1614643200000|        1612137600000|                             3|BP normalized|                N/A|2021-02-01 01:00:00|\n",
      "|    max|                21|       Quebec|       Windsor|       unknown|  Placebo|       1619827200000|        1617235200000|                            87|      unknown|     rashes on neck|2021-04-01 01:00:00|\n",
      "+-------+------------------+-------------+--------------+--------------+---------+--------------------+---------------------+------------------------------+-------------+-------------------+-------------------+\n",
      "\n"
     ]
    }
   ],
   "source": [
    "new_trials_df.describe().show()"
   ]
  },
  {
   "cell_type": "code",
   "execution_count": 81,
   "metadata": {},
   "outputs": [],
   "source": [
    "new_trials_df = new_trials_df.na.fill({'conclusion': 'unknown', 'assistant_role': 'unknown'})"
   ]
  },
  {
   "cell_type": "code",
   "execution_count": 82,
   "metadata": {},
   "outputs": [
    {
     "name": "stdout",
     "output_type": "stream",
     "text": [
      "+-------+------------------+-------------+--------------+--------------+---------+--------------------+---------------------+------------------------------+-------------+-------------------+\n",
      "|summary|age_of_participant|clinic_branch|head_clinician|assistant_role|drug_used|     experiment_date|experiment_start_date|hours_passed_at_first_reaction|   conclusion|adverse_side_effect|\n",
      "+-------+------------------+-------------+--------------+--------------+---------+--------------------+---------------------+------------------------------+-------------+-------------------+\n",
      "|  count|              3586|         3586|          3586|          3586|     3586|                3586|                 3586|                          3513|         3586|               3586|\n",
      "|   mean|17.507250418293363|         null|          null|          null|     null|1.618381578137200...| 1.615813671834913...|             44.89097637346997|         null|               null|\n",
      "| stddev|2.3066401927555233|         null|          null|          null|     null|2.3250351904618263E9| 2.2862846039555306E9|            24.540325490035848|         null|               null|\n",
      "|    min|                14|      Alberta|        Colins|        doctor| Naproxen|       1614643200000|        1612137600000|                             3|BP normalized|                N/A|\n",
      "|    max|                21|       Quebec|       Windsor|       unknown|  Placebo|       1619827200000|        1617235200000|                            87|      unknown|     rashes on neck|\n",
      "+-------+------------------+-------------+--------------+--------------+---------+--------------------+---------------------+------------------------------+-------------+-------------------+\n",
      "\n"
     ]
    }
   ],
   "source": [
    "new_trials_df.describe().show()"
   ]
  },
  {
   "cell_type": "markdown",
   "metadata": {},
   "source": [
    "# Data Transformation"
   ]
  },
  {
   "cell_type": "code",
   "execution_count": 84,
   "metadata": {},
   "outputs": [
    {
     "name": "stdout",
     "output_type": "stream",
     "text": [
      "root\n",
      " |-- age_of_participant: long (nullable = true)\n",
      " |-- clinic_branch: string (nullable = true)\n",
      " |-- head_clinician: string (nullable = true)\n",
      " |-- assistant_role: string (nullable = false)\n",
      " |-- drug_used: string (nullable = true)\n",
      " |-- experiment_date: string (nullable = true)\n",
      " |-- experiment_start_date: string (nullable = true)\n",
      " |-- hours_passed_at_first_reaction: long (nullable = true)\n",
      " |-- conclusion: string (nullable = false)\n",
      " |-- adverse_side_effect: string (nullable = true)\n",
      "\n"
     ]
    }
   ],
   "source": [
    "new_trials_df.printSchema()"
   ]
  },
  {
   "cell_type": "code",
   "execution_count": 85,
   "metadata": {},
   "outputs": [
    {
     "name": "stdout",
     "output_type": "stream",
     "text": [
      "+------------------+-------------+--------------+--------------+---------+---------------+---------------------+------------------------------+-------------+-------------------+\n",
      "|age_of_participant|clinic_branch|head_clinician|assistant_role|drug_used|experiment_date|experiment_start_date|hours_passed_at_first_reaction|   conclusion|adverse_side_effect|\n",
      "+------------------+-------------+--------------+--------------+---------+---------------+---------------------+------------------------------+-------------+-------------------+\n",
      "|                19|      Ontario|          Saul|     therapist|  Placebo|  1619827200000|        1617235200000|                            52|BP normalized|     rashes on neck|\n",
      "|                14|      Ontario|          Saul|         nurse| Naproxen|  1619827200000|        1617235200000|                            78|    Follow-up|                N/A|\n",
      "|                17|      Ontario|          Saul|         nurse|  Placebo|  1619827200000|        1617235200000|                            14|    Follow-up|                N/A|\n",
      "|                18|      Ontario|          Will|         nurse| Naproxen|  1619827200000|        1617235200000|                            14|BP normalized|                N/A|\n",
      "|                17|      Ontario|       Patrick|        doctor| Naproxen|  1619827200000|        1617235200000|                            22|    No effect|     rashes on neck|\n",
      "+------------------+-------------+--------------+--------------+---------+---------------+---------------------+------------------------------+-------------+-------------------+\n",
      "only showing top 5 rows\n",
      "\n"
     ]
    }
   ],
   "source": [
    "new_trials_df.show(5)"
   ]
  },
  {
   "cell_type": "code",
   "execution_count": 86,
   "metadata": {},
   "outputs": [],
   "source": [
    "from pyspark.sql import types as dtypes"
   ]
  },
  {
   "cell_type": "code",
   "execution_count": 112,
   "metadata": {},
   "outputs": [],
   "source": [
    "#Noticed experiment end date column is not properly named\n",
    "\n",
    "new_trials_df =  new_trials_df.withColumnsRenamed({'experiment_date':'experiment_end_date'})"
   ]
  },
  {
   "cell_type": "code",
   "execution_count": 115,
   "metadata": {},
   "outputs": [],
   "source": [
    "# convert datatypes to integers(longtype)\n",
    "# divide by 1000\n",
    "# convert from unix to datetime\n",
    "new_trials_df = new_trials_df\\\n",
    "      .withColumn('start_ts', fn.from_unixtime(fn.col('experiment_start_date').cast(dtypes.LongType())/1000, 'yyyy-MM-dd HH:mm:ss'))\\\n",
    "      .withColumn('start_ts', fn.col('start_ts').cast(dtypes.TimestampType()))\\\n",
    "            .withColumn('end_ts', fn.from_unixtime(fn.col('experiment_end_date').cast(dtypes.LongType())/1000, 'yyyy-MM-dd HH:mm:ss'))\\\n",
    "            .withColumn('end_ts', fn.col('end_ts').cast(dtypes.TimestampType()))"
   ]
  },
  {
   "cell_type": "code",
   "execution_count": 116,
   "metadata": {},
   "outputs": [
    {
     "name": "stdout",
     "output_type": "stream",
     "text": [
      "+------------------+-------------+--------------+--------------+---------+-------------------+---------------------+------------------------------+-------------+-------------------+-------------------+-------------------+\n",
      "|age_of_participant|clinic_branch|head_clinician|assistant_role|drug_used|experiment_end_date|experiment_start_date|hours_passed_at_first_reaction|   conclusion|adverse_side_effect|           start_ts|             end_ts|\n",
      "+------------------+-------------+--------------+--------------+---------+-------------------+---------------------+------------------------------+-------------+-------------------+-------------------+-------------------+\n",
      "|                19|      Ontario|          Saul|     therapist|  Placebo|      1619827200000|        1617235200000|                            52|BP normalized|     rashes on neck|2021-04-01 01:00:00|2021-05-01 01:00:00|\n",
      "|                14|      Ontario|          Saul|         nurse| Naproxen|      1619827200000|        1617235200000|                            78|    Follow-up|                N/A|2021-04-01 01:00:00|2021-05-01 01:00:00|\n",
      "|                17|      Ontario|          Saul|         nurse|  Placebo|      1619827200000|        1617235200000|                            14|    Follow-up|                N/A|2021-04-01 01:00:00|2021-05-01 01:00:00|\n",
      "|                18|      Ontario|          Will|         nurse| Naproxen|      1619827200000|        1617235200000|                            14|BP normalized|                N/A|2021-04-01 01:00:00|2021-05-01 01:00:00|\n",
      "|                17|      Ontario|       Patrick|        doctor| Naproxen|      1619827200000|        1617235200000|                            22|    No effect|     rashes on neck|2021-04-01 01:00:00|2021-05-01 01:00:00|\n",
      "+------------------+-------------+--------------+--------------+---------+-------------------+---------------------+------------------------------+-------------+-------------------+-------------------+-------------------+\n",
      "only showing top 5 rows\n",
      "\n"
     ]
    }
   ],
   "source": [
    "new_trials_df.show(5)"
   ]
  },
  {
   "cell_type": "markdown",
   "metadata": {},
   "source": [
    "# Transformation of Data"
   ]
  },
  {
   "cell_type": "code",
   "execution_count": 129,
   "metadata": {},
   "outputs": [],
   "source": [
    "#Save to csv\n",
    "\n",
    "reordered_columns = ['start_ts', 'end_ts','clinic_branch', 'head_clinician', 'assistants_role', 'drug_used', 'age_of_participant', 'hours_passed_at_first_reaction', 'conclusion', 'observed_side_effect' ]\n",
    "new_trials_df.select(reordered_columns)\\\n",
    "    .sort('start_ts').write.option('header', True).partitionBy('drug_used').mode(\"overwrite\").format(\"csv\").save('clinician')"
   ]
  },
  {
   "cell_type": "code",
   "execution_count": 135,
   "metadata": {},
   "outputs": [
    {
     "name": "stdout",
     "output_type": "stream",
     "text": [
      "+-------------------+-------------------+-------------+--------------+--------------+---------+------------------+------------------------------+-------------+-------------------+-----------+\n",
      "|           start_ts|             end_ts|clinic_branch|head_clinician|assistant_role|drug_used|age_of_participant|hours_passed_at_first_reaction|   conclusion|adverse_side_effect|start_month|\n",
      "+-------------------+-------------------+-------------+--------------+--------------+---------+------------------+------------------------------+-------------+-------------------+-----------+\n",
      "|2021-04-01 01:00:00|2021-05-01 01:00:00|      Ontario|          Saul|     therapist|  Placebo|                19|                            52|BP normalized|     rashes on neck|          4|\n",
      "|2021-04-01 01:00:00|2021-05-01 01:00:00|      Ontario|          Saul|         nurse| Naproxen|                14|                            78|    Follow-up|                N/A|          4|\n",
      "|2021-04-01 01:00:00|2021-05-01 01:00:00|      Ontario|          Saul|         nurse|  Placebo|                17|                            14|    Follow-up|                N/A|          4|\n",
      "|2021-04-01 01:00:00|2021-05-01 01:00:00|      Ontario|          Will|         nurse| Naproxen|                18|                            14|BP normalized|                N/A|          4|\n",
      "|2021-04-01 01:00:00|2021-05-01 01:00:00|      Ontario|       Patrick|        doctor| Naproxen|                17|                            22|    No effect|     rashes on neck|          4|\n",
      "|2021-04-01 01:00:00|2021-05-01 01:00:00|      Ontario|       Patrick|        doctor| Naproxen|                17|                             4|    Follow-up|          headaches|          4|\n",
      "|2021-04-01 01:00:00|2021-05-01 01:00:00|      Ontario|          Saul|        doctor| Naproxen|                20|                            85|    No effect|          headaches|          4|\n",
      "|2021-04-01 01:00:00|2021-05-01 01:00:00|      Ontario|          Saul|        doctor|  Placebo|                15|                            49|    No effect|     rashes on neck|          4|\n",
      "|2021-04-01 01:00:00|2021-05-01 01:00:00|      Ontario|          Will|     therapist|  Placebo|                14|                            84|    Follow-up|          headaches|          4|\n",
      "|2021-04-01 01:00:00|2021-05-01 01:00:00|      Ontario|        Colins|         nurse|  Placebo|                20|                            66|    Follow-up|      arms and feet|          4|\n",
      "+-------------------+-------------------+-------------+--------------+--------------+---------+------------------+------------------------------+-------------+-------------------+-----------+\n",
      "only showing top 10 rows\n",
      "\n"
     ]
    }
   ],
   "source": [
    "#extract month and partition data for mlengineers\n",
    "\n",
    "new_trials_df.select(reordered_columns)\\\n",
    "    .withColumn('start_month', fn.month('start_ts')).show(10)\n",
    "        .sort('start_ts').write.partitionBy('start_month').mode(\"overwrite\").format(\"parquet\").save('ml_engineers')"
   ]
  },
  {
   "cell_type": "code",
   "execution_count": 133,
   "metadata": {},
   "outputs": [
    {
     "name": "stdout",
     "output_type": "stream",
     "text": [
      "+------------------+-------------+--------------+--------------+---------+-------------------+---------------------+------------------------------+-------------+-------------------+-------------------+-------------------+\n",
      "|age_of_participant|clinic_branch|head_clinician|assistant_role|drug_used|experiment_end_date|experiment_start_date|hours_passed_at_first_reaction|   conclusion|adverse_side_effect|           start_ts|             end_ts|\n",
      "+------------------+-------------+--------------+--------------+---------+-------------------+---------------------+------------------------------+-------------+-------------------+-------------------+-------------------+\n",
      "|                19|      Ontario|          Saul|     therapist|  Placebo|      1619827200000|        1617235200000|                            52|BP normalized|     rashes on neck|2021-04-01 01:00:00|2021-05-01 01:00:00|\n",
      "|                14|      Ontario|          Saul|         nurse| Naproxen|      1619827200000|        1617235200000|                            78|    Follow-up|                N/A|2021-04-01 01:00:00|2021-05-01 01:00:00|\n",
      "|                17|      Ontario|          Saul|         nurse|  Placebo|      1619827200000|        1617235200000|                            14|    Follow-up|                N/A|2021-04-01 01:00:00|2021-05-01 01:00:00|\n",
      "|                18|      Ontario|          Will|         nurse| Naproxen|      1619827200000|        1617235200000|                            14|BP normalized|                N/A|2021-04-01 01:00:00|2021-05-01 01:00:00|\n",
      "|                17|      Ontario|       Patrick|        doctor| Naproxen|      1619827200000|        1617235200000|                            22|    No effect|     rashes on neck|2021-04-01 01:00:00|2021-05-01 01:00:00|\n",
      "+------------------+-------------+--------------+--------------+---------+-------------------+---------------------+------------------------------+-------------+-------------------+-------------------+-------------------+\n",
      "only showing top 5 rows\n",
      "\n"
     ]
    }
   ],
   "source": [
    "new_trials_df.show(5)"
   ]
  },
  {
   "cell_type": "code",
   "execution_count": null,
   "metadata": {},
   "outputs": [],
   "source": []
  }
 ],
 "metadata": {
  "kernelspec": {
   "display_name": "Python 3",
   "language": "python",
   "name": "python3"
  },
  "language_info": {
   "codemirror_mode": {
    "name": "ipython",
    "version": 3
   },
   "file_extension": ".py",
   "mimetype": "text/x-python",
   "name": "python",
   "nbconvert_exporter": "python",
   "pygments_lexer": "ipython3",
   "version": "3.9.13"
  },
  "orig_nbformat": 4
 },
 "nbformat": 4,
 "nbformat_minor": 2
}
